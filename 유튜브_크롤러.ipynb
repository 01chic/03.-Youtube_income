{
  "nbformat": 4,
  "nbformat_minor": 0,
  "metadata": {
    "colab": {
      "name": "유튜브 크롤러",
      "version": "0.3.2",
      "provenance": [],
      "include_colab_link": true
    },
    "kernelspec": {
      "name": "python3",
      "display_name": "Python 3"
    }
  },
  "cells": [
    {
      "cell_type": "markdown",
      "metadata": {
        "id": "view-in-github",
        "colab_type": "text"
      },
      "source": [
        "<a href=\"https://colab.research.google.com/github/01chic/03.-Youtube_income/blob/crawler/%EC%9C%A0%ED%8A%9C%EB%B8%8C_%ED%81%AC%EB%A1%A4%EB%9F%AC.ipynb\" target=\"_parent\"><img src=\"https://colab.research.google.com/assets/colab-badge.svg\" alt=\"Open In Colab\"/></a>"
      ]
    },
    {
      "metadata": {
        "id": "d-Bas-viOzlM",
        "colab_type": "text"
      },
      "cell_type": "markdown",
      "source": [
        "[참고한 사이트]\n",
        "https://www.slideshare.net/HyeyeonYang/ss-73470576"
      ]
    },
    {
      "metadata": {
        "id": "uA75HgWLRQh-",
        "colab_type": "text"
      },
      "cell_type": "markdown",
      "source": [
        "* 되는 것 : 영상제목, 영상링크, 동영상 재생수, 영상올린 지 얼마나 되었는지\n",
        "* 추가해야하는 것 : 좋아요 수 , 절대적 영상 올린 시점"
      ]
    },
    {
      "metadata": {
        "id": "9gbuxlhzOrUn",
        "colab_type": "code",
        "colab": {}
      },
      "cell_type": "code",
      "source": [
        "from bs4 import BeautifulSoup\n",
        "from urllib.request import urlopen\n",
        "\n",
        "\n",
        "import requests\n",
        "import lxml"
      ],
      "execution_count": 0,
      "outputs": []
    },
    {
      "metadata": {
        "id": "H95oXZfxQHkw",
        "colab_type": "code",
        "colab": {}
      },
      "cell_type": "code",
      "source": [
        "def get_true_video_link(target_url):\n",
        "    response = requests.get(target_url)\n",
        "    soup = BeautifulSoup(response.text, \"lxml\")\n",
        "    lis = soup.find_all('li', {'class' : 'channels-content-item yt-shelf-grid-item'})\n",
        "    for li in lis:\n",
        "        title = li.find('a', {'title' : True})['title']\n",
        "        video_link = 'https://www.youtube.com' + li.find('a', {'href' : True})['href']\n",
        "        img_link = li.find('img', {'src' : True})['src']\n",
        "        play_time = li.find('span', {'class' : 'video-time'}).text\n",
        "        hits = li.find_all('li')[2].text\n",
        "        updated_time = li.find_all('li')[3].text\n",
        "        true_video_info = title, video_link, img_link, play_time, hits, updated_time\n",
        "        print(true_video_info)\n",
        "    return true_video_info\n"
      ],
      "execution_count": 0,
      "outputs": []
    },
    {
      "metadata": {
        "id": "LWIYzvrRQGL4",
        "colab_type": "code",
        "colab": {
          "base_uri": "https://localhost:8080/",
          "height": 547
        },
        "outputId": "f79a581a-b701-4620-dbd7-f19189c99ed4"
      },
      "cell_type": "code",
      "source": [
        "target_url = 'https://www.youtube.com/user/yootruebeutyroom/videos'\n",
        "df=get_true_video_link(target_url)"
      ],
      "execution_count": 5,
      "outputs": [
        {
          "output_type": "stream",
          "text": [
            "('신혼집 첫 룸메이트', 'https://www.youtube.com/watch?v=AEfM26N9LGM', 'https://i.ytimg.com/vi/AEfM26N9LGM/hqdefault.jpg?sqp=-oaymwEiCMQBEG5IWvKriqkDFQgBFQAAAAAYASUAAMhCPQCAokN4AQ==&rs=AOn4CLCXnc0Fh9hOB-DCD-IvKobUcrhTVw', '33:20', '151,047 views', '2 days ago')\n",
            "('신혼여행지에서 메이크업ㅣ발리에서 생긴일\\U0001f92d/어머낫?!', 'https://www.youtube.com/watch?v=vYlFt0ZB9zs', 'https://i.ytimg.com/vi/vYlFt0ZB9zs/hqdefault.jpg?sqp=-oaymwEiCMQBEG5IWvKriqkDFQgBFQAAAAAYASUAAMhCPQCAokN4AQ==&rs=AOn4CLDnZXfwuBG_lXlIIO3QPOf7jgfQLA', '32:17', '169,618 views', '1 week ago')\n",
            "('결혼식 다음날, 첫 룸메이트', 'https://www.youtube.com/watch?v=soem2NdOf-4', 'https://i.ytimg.com/vi/soem2NdOf-4/hqdefault.jpg?sqp=-oaymwEiCMQBEG5IWvKriqkDFQgBFQAAAAAYASUAAMhCPQCAokN4AQ==&rs=AOn4CLCVvwUtS3_ic1uaWhnGjm8j1o3EVw', '18:22', '240,469 views', '1 week ago')\n",
            "('가성비 최강 진심 꾹꾹 스킨케어 제품 추천', 'https://www.youtube.com/watch?v=Z0QBSQF8R-o', 'https://i.ytimg.com/vi/Z0QBSQF8R-o/hqdefault.jpg?sqp=-oaymwEiCMQBEG5IWvKriqkDFQgBFQAAAAAYASUAAMhCPQCAokN4AQ==&rs=AOn4CLAo8FLZifKOATxu5-w3Zb5HFjU7qQ', '13:42', '72,112 views', '2 weeks ago')\n",
            "('수험생들 뷰티제품 추천ㅣ뷰티입문자들 추천/초보 추천', 'https://www.youtube.com/watch?v=oQJvArb5i40', 'https://i.ytimg.com/vi/oQJvArb5i40/hqdefault.jpg?sqp=-oaymwEiCMQBEG5IWvKriqkDFQgBFQAAAAAYASUAAMhCPQCAokN4AQ==&rs=AOn4CLA2D9LGLkjBLC6eQBUP5etpS9rfuA', '14:01', '119,842 views', '3 weeks ago')\n",
            "('엄마랑 글로우메이크업해요 3탄ㅣ속초에서😀feat.FOREO', 'https://www.youtube.com/watch?v=bp3VFAW7pyU', 'https://i.ytimg.com/vi/bp3VFAW7pyU/hqdefault.jpg?sqp=-oaymwEiCMQBEG5IWvKriqkDFQgBFQAAAAAYASUAAMhCPQCAokN4AQ==&rs=AOn4CLAf_Ir6Qgn8lNQBTuZ1yDDepnyX5Q', '20:46', '79,398 views', '4 weeks ago')\n",
            "('브러슁 가득한 ASMR메이크업ㅣNo talking', 'https://www.youtube.com/watch?v=ImNo3fNH1Jc', 'https://i.ytimg.com/vi/ImNo3fNH1Jc/hqdefault.jpg?sqp=-oaymwEiCMQBEG5IWvKriqkDFQgBFQAAAAAYASUAAMhCPQCAokN4AQ==&rs=AOn4CLCbl-jGb4rjFXsR0ddGG8oAwJ9YEw', '51:08', '62,326 views', '1 month ago')\n",
            "('핑크퍼플메이크업ㅣ안 건조한 스킨케어 조합/겨울맞이 왕수다/거실에서', 'https://www.youtube.com/watch?v=vOUTIaYX3fA', 'https://i.ytimg.com/vi/vOUTIaYX3fA/hqdefault.jpg?sqp=-oaymwEiCMQBEG5IWvKriqkDFQgBFQAAAAAYASUAAMhCPQCAokN4AQ==&rs=AOn4CLCyZwfHjjWFI7GeYx3-SjgOF__5Lg', '37:00', '124,316 views', '1 month ago')\n",
            "('좁쌀 여드름 예방법', 'https://www.youtube.com/watch?v=vESNL4PHCSk', 'https://i.ytimg.com/vi/vESNL4PHCSk/hqdefault.jpg?sqp=-oaymwEiCMQBEG5IWvKriqkDFQgBFQAAAAAYASUAAMhCPQCAokN4AQ==&rs=AOn4CLBG7Pt5-_bpnMEfJEI9PtHkhl4deA', '11:02', '82,398 views', '1 month ago')\n",
            "('[1화 모공편] 헬퍼유트루가 도와드립니다!!', 'https://www.youtube.com/watch?v=wzEb25mUqUo', 'https://i.ytimg.com/vi/wzEb25mUqUo/hqdefault.jpg?sqp=-oaymwEiCMQBEG5IWvKriqkDFQgBFQAAAAAYASUAAMhCPQCAokN4AQ==&rs=AOn4CLDYksE7U-_Lw7crnlbTn0ml5h-mBg', '20:12', '138,175 views', '1 month ago')\n",
            "('주제 - 댓글 보면 어때요? 유튜버 과포화?/ 수면용/슈에무라라이트벌브플루이드파데', 'https://www.youtube.com/watch?v=n4GSdR66C7o', 'https://i.ytimg.com/vi/n4GSdR66C7o/hqdefault.jpg?sqp=-oaymwEiCMQBEG5IWvKriqkDFQgBFQAAAAAYASUAAMhCPQCAokN4AQ==&rs=AOn4CLB9kvy4ZoRrsixMG11qiHLPTIvCJA', '35:04', '140,674 views', '1 month ago')\n",
            "('고데기 하는 방법/부스스머리 잡을 수 있다!!', 'https://www.youtube.com/watch?v=54-wDawNA-s', 'https://i.ytimg.com/vi/54-wDawNA-s/hqdefault.jpg?sqp=-oaymwEiCMQBEG5IWvKriqkDFQgBFQAAAAAYASUAAMhCPQCAokN4AQ==&rs=AOn4CLBJ_vN2cXqaKvGmdZBt-pRvsxAtIA', '13:50', '53,219 views', '1 month ago')\n",
            "('가로수길 하울ㅣ신발,립, 눈물라이너, 귀걸이/3CE,잇츠스킨,사뿐', 'https://www.youtube.com/watch?v=vPkrLQpfC1Q', 'https://i.ytimg.com/vi/vPkrLQpfC1Q/hqdefault.jpg?sqp=-oaymwEiCMQBEG5IWvKriqkDFQgBFQAAAAAYASUAAMhCPQCAokN4AQ==&rs=AOn4CLDehgsbXQHWKvobdPZZvrpnGIcpZQ', '13:51', '93,813 views', '1 month ago')\n",
            "('가을,겨울 추천 파운데이션 3개/촉촉한 스킨케어 팁?!', 'https://www.youtube.com/watch?v=FWQ1dzCsRTw', 'https://i.ytimg.com/vi/FWQ1dzCsRTw/hqdefault.jpg?sqp=-oaymwEiCMQBEG5IWvKriqkDFQgBFQAAAAAYASUAAMhCPQCAokN4AQ==&rs=AOn4CLBD74NfI2jnTYctnhUSwsIeZ0Gj9g', '10:19', '171,601 views', '2 months ago')\n",
            "('웨딩플래너 만나러 가요❤️/지방시 밸뱃파데 써봄', 'https://www.youtube.com/watch?v=kd5znYY2ycs', 'https://i.ytimg.com/vi/kd5znYY2ycs/hqdefault.jpg?sqp=-oaymwEiCMQBEG5IWvKriqkDFQgBFQAAAAAYASUAAMhCPQCAokN4AQ==&rs=AOn4CLAZvji_2Y8y_-TvXsEblzRISiBnOQ', '25:18', '274,247 views', '2 months ago')\n",
            "('털 숭숭숭 퍼프 리뷰ㅣ파데,하이라이터,파우더,블러셔 다 발라봄/해외직구템', 'https://www.youtube.com/watch?v=1O75QNtw6-8', 'https://i.ytimg.com/vi/1O75QNtw6-8/hqdefault.jpg?sqp=-oaymwEiCMQBEG5IWvKriqkDFQgBFQAAAAAYASUAAMhCPQCAokN4AQ==&rs=AOn4CLAyDV9DEthpqSDj1u0ZmlJgwzeSXQ', '11:34', '98,213 views', '2 months ago')\n",
            "('인스타그램 메이크업', 'https://www.youtube.com/watch?v=aqzUKGkePpM', 'https://i.ytimg.com/vi/aqzUKGkePpM/hqdefault.jpg?sqp=-oaymwEiCMQBEG5IWvKriqkDFQgBFQAAAAAYASUAAMhCPQCAokN4AQ==&rs=AOn4CLAOqJmeVE-zEOYptlzriI-pnBLMwA', '19:08', '104,570 views', '2 months ago')\n",
            "('명절에 잔소리 안 듣는 메이크업?!ㅣ꽁트 주의', 'https://www.youtube.com/watch?v=7gYuq9ybqgk', 'https://i.ytimg.com/vi/7gYuq9ybqgk/hqdefault.jpg?sqp=-oaymwEiCMQBEG5IWvKriqkDFQgBFQAAAAAYASUAAMhCPQCAokN4AQ==&rs=AOn4CLBrvbnzJU5LatToIk4Xq4yL8a67Vg', '19:50', '208,169 views', '2 months ago')\n",
            "('화장품을 진짜 현미경으로 보다ㅣ로드샵과백화점/Microscope', 'https://www.youtube.com/watch?v=jzMhrJ97IY8', 'https://i.ytimg.com/vi/jzMhrJ97IY8/hqdefault.jpg?sqp=-oaymwEiCMQBEG5IWvKriqkDFQgBFQAAAAAYASUAAMhCPQCAokN4AQ==&rs=AOn4CLCv6mXXMQWoSkaP6OmiH9zfgKEzOA', '13:30', '79,111 views', '2 months ago')\n",
            "('피부타입별베이스+파데 추천', 'https://www.youtube.com/watch?v=c-9_eyQDc8c', 'https://i.ytimg.com/vi/c-9_eyQDc8c/hqdefault.jpg?sqp=-oaymwEiCMQBEG5IWvKriqkDFQgBFQAAAAAYASUAAMhCPQCAokN4AQ==&rs=AOn4CLDPFpWHUkWazjoTJfmo-vCx8TOBNA', '12:48', '118,298 views', '3 months ago')\n",
            "('메이크업포에버 순삭 💸20장💵 하울', 'https://www.youtube.com/watch?v=EWvKIq2NM7s', 'https://i.ytimg.com/vi/EWvKIq2NM7s/hqdefault.jpg?sqp=-oaymwEiCMQBEG5IWvKriqkDFQgBFQAAAAAYASUAAMhCPQCAokN4AQ==&rs=AOn4CLAnNtNdEeVWBQSX0b2UUgNxYEQwnA', '10:35', '83,653 views', '3 months ago')\n",
            "('가을 느낌 가득 메이크업ㅣ모두로드샵코스메틱/올로드샵', 'https://www.youtube.com/watch?v=hC3OkqNFZXw', 'https://i.ytimg.com/vi/hC3OkqNFZXw/hqdefault.jpg?sqp=-oaymwEiCMQBEG5IWvKriqkDFQgBFQAAAAAYASUAAMhCPQCAokN4AQ==&rs=AOn4CLA8TM8HzYJG-OkwtEPDLAAEFHQuHw', '16:41', '116,604 views', '3 months ago')\n",
            "('여드름유튜버, 여드름 극복ㅣ4년 노하우/간증폭발', 'https://www.youtube.com/watch?v=Li-CxWUm2JA', 'https://i.ytimg.com/vi/Li-CxWUm2JA/hqdefault.jpg?sqp=-oaymwEiCMQBEG5IWvKriqkDFQgBFQAAAAAYASUAAMhCPQCAokN4AQ==&rs=AOn4CLB7xbqpDItF4M4u6RK7fG1qQHeooQ', '6:38', '281,389 views', '3 months ago')\n",
            "('볼펜으로 눈썹을 그려?!ㅣ눈썹꿀팁/엄청 가까이 보여줌', 'https://www.youtube.com/watch?v=jW9kn_1clyY', 'https://i.ytimg.com/vi/jW9kn_1clyY/hqdefault.jpg?sqp=-oaymwEiCMQBEG5IWvKriqkDFQgBFQAAAAAYASUAAMhCPQCAokN4AQ==&rs=AOn4CLBFOrLpB8-br03ZWw3du2tg6NVOfw', '10:58', '59,319 views', '3 months ago')\n",
            "('태아에서 인간올리브 되어보기ㅣ퍼스널컬러 역행😎/메포 라이트벨벳쿠션/아리따움 먼데이 아이팔레트', 'https://www.youtube.com/watch?v=VK2k53u1oNc', 'https://i.ytimg.com/vi/VK2k53u1oNc/hqdefault.jpg?sqp=-oaymwEiCMQBEG5IWvKriqkDFQgBFQAAAAAYASUAAMhCPQCAokN4AQ==&rs=AOn4CLCL8yuivQDg8ONN5fzl1-wVx2hC1A', '22:18', '149,023 views', '3 months ago')\n",
            "('꼼꼼화장과 폭풍수다사연/ 에이프릴스킨 파데 썼어요', 'https://www.youtube.com/watch?v=6riIBih_FME', 'https://i.ytimg.com/vi/6riIBih_FME/hqdefault.jpg?sqp=-oaymwEiCMQBEG5IWvKriqkDFQgBFQAAAAAYASUAAMhCPQCAokN4AQ==&rs=AOn4CLA6wGud814yM6LbuoCV53qv5n-7jA', '31:37', '166,958 views', '3 months ago')\n",
            "('[광고아님]파데가 안 뜨는 선크림, 코끼임 생기는 선크림/선크림 추천!!', 'https://www.youtube.com/watch?v=Sb6aHXIO_l4', 'https://i.ytimg.com/vi/Sb6aHXIO_l4/hqdefault.jpg?sqp=-oaymwEiCMQBEG5IWvKriqkDFQgBFQAAAAAYASUAAMhCPQCAokN4AQ==&rs=AOn4CLDbf-LQIGH-B2S0hAw5bMTlnF0__g', '11:26', '129,983 views', '4 months ago')\n",
            "('신랑메이크업ㅣ허옇게 뜬 신랑 노노노!!', 'https://www.youtube.com/watch?v=Kqz_12_qvro', 'https://i.ytimg.com/vi/Kqz_12_qvro/hqdefault.jpg?sqp=-oaymwEiCMQBEG5IWvKriqkDFQgBFQAAAAAYASUAAMhCPQCAokN4AQ==&rs=AOn4CLApsoUqqKaEbXZ250zZ5qDJxfmK1Q', '12:47', '131,902 views', '4 months ago')\n",
            "('할머니 아니에여 메이크업ㅣ농촌봉사활동 썰 숨차게 털어버림💦', 'https://www.youtube.com/watch?v=-fZ66-MRwFM', 'https://i.ytimg.com/vi/-fZ66-MRwFM/hqdefault.jpg?sqp=-oaymwEiCMQBEG5IWvKriqkDFQgBFQAAAAAYASUAAMhCPQCAokN4AQ==&rs=AOn4CLDdk1AYjhqJou_2Y9NYIjHMOJm6FA', '27:18', '97,682 views', '4 months ago')\n"
          ],
          "name": "stdout"
        }
      ]
    },
    {
      "metadata": {
        "id": "PZHQ3hGdQFgw",
        "colab_type": "code",
        "colab": {
          "base_uri": "https://localhost:8080/",
          "height": 169
        },
        "outputId": "1cb05afa-cac3-45e8-9fd7-436d20636540"
      },
      "cell_type": "code",
      "source": [
        "df.to_csv('youtube_01.csv', sep='\t', encoding='UTF-8')"
      ],
      "execution_count": 9,
      "outputs": [
        {
          "output_type": "error",
          "ename": "AttributeError",
          "evalue": "ignored",
          "traceback": [
            "\u001b[0;31m---------------------------------------------------------------------------\u001b[0m",
            "\u001b[0;31mAttributeError\u001b[0m                            Traceback (most recent call last)",
            "\u001b[0;32m<ipython-input-9-65364519abbe>\u001b[0m in \u001b[0;36m<module>\u001b[0;34m()\u001b[0m\n\u001b[0;32m----> 1\u001b[0;31m \u001b[0mdf\u001b[0m\u001b[0;34m.\u001b[0m\u001b[0mto_csv\u001b[0m\u001b[0;34m(\u001b[0m\u001b[0;34m'youtube_01.csv'\u001b[0m\u001b[0;34m,\u001b[0m \u001b[0msep\u001b[0m\u001b[0;34m=\u001b[0m\u001b[0;34m'       '\u001b[0m\u001b[0;34m,\u001b[0m \u001b[0mencoding\u001b[0m\u001b[0;34m=\u001b[0m\u001b[0;34m'UTF-8'\u001b[0m\u001b[0;34m)\u001b[0m\u001b[0;34m\u001b[0m\u001b[0;34m\u001b[0m\u001b[0m\n\u001b[0m",
            "\u001b[0;31mAttributeError\u001b[0m: 'tuple' object has no attribute 'to_csv'"
          ]
        }
      ]
    },
    {
      "metadata": {
        "id": "f2ZHNuroQQ7p",
        "colab_type": "code",
        "colab": {}
      },
      "cell_type": "code",
      "source": [
        ""
      ],
      "execution_count": 0,
      "outputs": []
    }
  ]
}